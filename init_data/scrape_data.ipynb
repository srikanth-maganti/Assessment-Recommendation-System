{
 "cells": [
  {
   "cell_type": "code",
   "execution_count": 2,
   "id": "4122c851-e0a6-45a9-a867-8496b2027646",
   "metadata": {},
   "outputs": [],
   "source": [
    "from bs4 import BeautifulSoup\n",
    "import requests\n",
    "import csv\n",
    "import re"
   ]
  },
  {
   "cell_type": "code",
   "execution_count": 166,
   "id": "8e0026dd-2e4e-47b1-8349-4d3473819bc5",
   "metadata": {},
   "outputs": [
    {
     "data": {
      "text/plain": [
       "85"
      ]
     },
     "execution_count": 166,
     "metadata": {},
     "output_type": "execute_result"
    }
   ],
   "source": [
    "csv_file=open(\"products_catalogue.csv\",\"w\")\n",
    "csv_writer=csv.writer(csv_file)\n",
    "csv_writer.writerow(['Title',\"Link\",\"Description\",\"Remote_testing\",\"Adaptive_Testing\",\"Job_levels\",\"Language\",\"Duration\"])"
   ]
  },
  {
   "cell_type": "code",
   "execution_count": 168,
   "id": "c013aacd-8397-4184-b04f-763060ad7280",
   "metadata": {},
   "outputs": [],
   "source": [
    "products=[]"
   ]
  },
  {
   "cell_type": "code",
   "execution_count": 172,
   "id": "fe706a0a-05ef-4fee-990f-687d352139fb",
   "metadata": {},
   "outputs": [],
   "source": [
    "for i in range(0,133,12):\n",
    "        url=f\"https://www.shl.com/solutions/products/product-catalog/?start={i}&type={2}&type={2}\"\n",
    "        source=requests.get(url).text\n",
    "        soup=BeautifulSoup(source,'lxml')\n",
    "        for tr in soup.find_all(\"tr\")[1:]:\n",
    "                products.append(tr)\n",
    "    \n",
    "    "
   ]
  },
  {
   "cell_type": "code",
   "execution_count": 173,
   "id": "f414bff4-fafc-4573-905e-922e44622fd6",
   "metadata": {},
   "outputs": [
    {
     "data": {
      "text/plain": [
       "[<tr data-course-id=\"57\">\n",
       " <td class=\"custom__table-heading__title\">\n",
       " <a href=\"/solutions/products/product-catalog/view/account-manager-solution/\">Account Manager Solution </a>\n",
       " </td>\n",
       " <td class=\"custom__table-heading__general\">\n",
       " <span class=\"catalogue__circle -yes\"></span>\n",
       " </td>\n",
       " <td class=\"custom__table-heading__general\">\n",
       " <span class=\"catalogue__circle -yes\"></span>\n",
       " </td>\n",
       " <td class=\"custom__table-heading__general product-catalogue__keys\">\n",
       " <span class=\"product-catalogue__key\" data-has-tooltip=\"true\" data-tooltip=\"productCatalogueTooltip\">C</span>\n",
       " <span class=\"product-catalogue__key\" data-has-tooltip=\"true\" data-tooltip=\"productCatalogueTooltip\">P</span>\n",
       " <span class=\"product-catalogue__key\" data-has-tooltip=\"true\" data-tooltip=\"productCatalogueTooltip\">A</span>\n",
       " <span class=\"product-catalogue__key\" data-has-tooltip=\"true\" data-tooltip=\"productCatalogueTooltip\">B</span>\n",
       " </td>\n",
       " </tr>]"
      ]
     },
     "execution_count": 173,
     "metadata": {},
     "output_type": "execute_result"
    }
   ],
   "source": [
    "products[:1]"
   ]
  },
  {
   "cell_type": "code",
   "execution_count": 174,
   "id": "f0304d67-44e9-4c54-8678-bc0c895d6040",
   "metadata": {},
   "outputs": [],
   "source": [
    "for i in range(0,373,12):\n",
    "        \n",
    "        url=f\"https://www.shl.com/solutions/products/product-catalog/?start={i}&type={1}&type={1}\"\n",
    "        source=requests.get(url).text\n",
    "        soup=BeautifulSoup(source,'lxml')\n",
    "        for tr in soup.find_all(\"tr\")[1:]:\n",
    "                products.append(tr)\n",
    "        "
   ]
  },
  {
   "cell_type": "code",
   "execution_count": 175,
   "id": "833b1f07-f0f9-40a2-81a3-4f7b56ea4692",
   "metadata": {},
   "outputs": [],
   "source": [
    "products=set(products)"
   ]
  },
  {
   "cell_type": "code",
   "execution_count": 176,
   "id": "d7e8c4d3-1cd3-4fea-b4a7-c5dec95e0a9a",
   "metadata": {},
   "outputs": [
    {
     "data": {
      "text/plain": [
       "303"
      ]
     },
     "execution_count": 176,
     "metadata": {},
     "output_type": "execute_result"
    }
   ],
   "source": [
    "len(products)"
   ]
  },
  {
   "cell_type": "code",
   "execution_count": 177,
   "id": "da75a33b-006c-49ca-ac1c-f76613f5f1e8",
   "metadata": {},
   "outputs": [],
   "source": [
    "for tr in products:\n",
    "    try:\n",
    "        # Extract link and title safely\n",
    "        anchor = tr.find('a')\n",
    "        if not anchor or \"href\" not in anchor.attrs:\n",
    "            continue  # skip if no link\n",
    "\n",
    "        link = \"https://www.shl.com\" + anchor[\"href\"]\n",
    "        title = anchor.get_text(strip=True)\n",
    "\n",
    "        # Fetch subpage\n",
    "        response = requests.get(link)\n",
    "        if response.status_code != 200:\n",
    "            continue  # skip if page doesn't load properly\n",
    "\n",
    "        soup = BeautifulSoup(response.text, 'lxml')\n",
    "        x = soup.find_all(\"div\", class_=\"product-catalogue-training-calendar__row typ\")\n",
    "\n",
    "        # Safely extract fields from the subpage\n",
    "        def get_text_or_na(index):\n",
    "            try:\n",
    "                return x[index].p.get_text(strip=True)\n",
    "            except (IndexError, AttributeError):\n",
    "                return \"N/A\"\n",
    "\n",
    "        description = get_text_or_na(0)\n",
    "        job_levels = get_text_or_na(1)\n",
    "        language = get_text_or_na(2)\n",
    "        duration = get_text_or_na(3)\n",
    "\n",
    "        # Check for <span> inside table headings\n",
    "        td = tr.find_all(class_=\"custom__table-heading__general\")\n",
    "\n",
    "        def has_span(index):\n",
    "            try:\n",
    "                return \"yes\" if td[index].find(\"span\") else \"no\"\n",
    "            except IndexError:\n",
    "                return \"no\"\n",
    "\n",
    "        remote_testing = has_span(0)\n",
    "        adaptive_testing = has_span(1)\n",
    "\n",
    "        # Prepare data row\n",
    "        total = [title, link, description,  remote_testing, adaptive_testing,job_levels, language, duration,]\n",
    "        csv_writer.writerow(total)\n",
    "\n",
    "    except Exception as e:\n",
    "        print(f\"Error processing a product row: {e}\")\n",
    "        continue  # move to next row safely\n",
    "\n",
    "   \n",
    "   \n",
    "    \n",
    "    "
   ]
  },
  {
   "cell_type": "code",
   "execution_count": 184,
   "id": "e78f5468-729e-4a2a-8fe4-b021afdaf437",
   "metadata": {},
   "outputs": [],
   "source": [
    "import pandas as pd"
   ]
  },
  {
   "cell_type": "code",
   "execution_count": 208,
   "id": "36ce2a1a-f974-4e57-9b14-0018d228567f",
   "metadata": {},
   "outputs": [],
   "source": [
    "df=pd.read_csv(\"products_catalogue.csv\",encoding='ISO-8859-1')"
   ]
  },
  {
   "cell_type": "code",
   "execution_count": 210,
   "id": "0f138f67-6aab-4352-b364-2af8a61ca987",
   "metadata": {},
   "outputs": [
    {
     "data": {
      "text/plain": [
       "Title                0\n",
       "Link                 0\n",
       "Description          0\n",
       "Remote_testing       0\n",
       "Adaptive_Testing     0\n",
       "Job_levels           0\n",
       "Language             8\n",
       "Duration            20\n",
       "dtype: int64"
      ]
     },
     "execution_count": 210,
     "metadata": {},
     "output_type": "execute_result"
    }
   ],
   "source": [
    "df.isnull().sum()"
   ]
  },
  {
   "cell_type": "code",
   "execution_count": 212,
   "id": "9bc0122c-1c74-476d-8865-a855c065e403",
   "metadata": {},
   "outputs": [],
   "source": [
    "df=df.fillna(\" \")"
   ]
  },
  {
   "cell_type": "code",
   "execution_count": 214,
   "id": "53fcf8fd-f33a-43bf-9112-65243d1b34eb",
   "metadata": {},
   "outputs": [
    {
     "data": {
      "text/plain": [
       "Index(['Title', 'Link', 'Description', 'Remote_testing', 'Adaptive_Testing',\n",
       "       'Job_levels', 'Language', 'Duration'],\n",
       "      dtype='object')"
      ]
     },
     "execution_count": 214,
     "metadata": {},
     "output_type": "execute_result"
    }
   ],
   "source": [
    "df.columns"
   ]
  },
  {
   "cell_type": "code",
   "execution_count": 216,
   "id": "c9d0fed5-4f06-4cc5-9fd8-5aa9efa0798b",
   "metadata": {},
   "outputs": [
    {
     "data": {
      "text/plain": [
       "Title               0\n",
       "Link                0\n",
       "Description         0\n",
       "Remote_testing      0\n",
       "Adaptive_Testing    0\n",
       "Job_levels          0\n",
       "Language            0\n",
       "Duration            0\n",
       "dtype: int64"
      ]
     },
     "execution_count": 216,
     "metadata": {},
     "output_type": "execute_result"
    }
   ],
   "source": [
    "df.isnull().sum()"
   ]
  },
  {
   "cell_type": "code",
   "execution_count": 218,
   "id": "91efc507-f6d4-426b-908a-5446209a76e6",
   "metadata": {},
   "outputs": [],
   "source": [
    "df.to_csv(\"products_catalogue.csv\", index=False)"
   ]
  },
  {
   "cell_type": "code",
   "execution_count": null,
   "id": "457e285c-a0a4-4520-b3f0-9b736dc77e33",
   "metadata": {},
   "outputs": [],
   "source": []
  }
 ],
 "metadata": {
  "kernelspec": {
   "display_name": "Python [conda env:base] *",
   "language": "python",
   "name": "conda-base-py"
  },
  "language_info": {
   "codemirror_mode": {
    "name": "ipython",
    "version": 3
   },
   "file_extension": ".py",
   "mimetype": "text/x-python",
   "name": "python",
   "nbconvert_exporter": "python",
   "pygments_lexer": "ipython3",
   "version": "3.12.7"
  }
 },
 "nbformat": 4,
 "nbformat_minor": 5
}
